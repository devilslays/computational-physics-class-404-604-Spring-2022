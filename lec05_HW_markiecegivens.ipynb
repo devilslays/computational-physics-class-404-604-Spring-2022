{
 "cells": [
  {
   "cell_type": "markdown",
   "id": "143214e7",
   "metadata": {},
   "source": [
    "# Lecture 5 HW assignment: Newton-Raphson method"
   ]
  },
  {
   "cell_type": "markdown",
   "id": "f2ce46eb",
   "metadata": {},
   "source": [
    "### Use the Newton-Raphson method to solve the equations:\n",
    "\n",
    "$$x_1^2+x_1x_2 = 10$$\n",
    "$$x_2 + 3x_1x_2^2=57$$"
   ]
  },
  {
   "cell_type": "code",
   "execution_count": 276,
   "id": "e5d377ed",
   "metadata": {},
   "outputs": [],
   "source": [
    "import matplotlib.pyplot as plt\n",
    "import numpy as np\n",
    "x1 = -20\n",
    "x2 = 20\n",
    "# these values were taken from lecture\n",
    "eps = 1e-8\n",
    "nmax = 100"
   ]
  },
  {
   "cell_type": "markdown",
   "id": "8007796e",
   "metadata": {},
   "source": [
    "This Cell contains the function definitions"
   ]
  },
  {
   "cell_type": "code",
   "execution_count": 277,
   "id": "7c3bc757",
   "metadata": {},
   "outputs": [],
   "source": [
    "def f1(x1,x2):\n",
    "    return (x1*x1+x1*x2-10)\n",
    "\n",
    "def f2(x1,x2):\n",
    "    return (x2+(3*x1)*(x2*x2)-57)"
   ]
  },
  {
   "cell_type": "markdown",
   "id": "4d4480a3",
   "metadata": {},
   "source": [
    "This cell contains the partial derivatives of f1 and f2 with respect to x1 and x2"
   ]
  },
  {
   "cell_type": "markdown",
   "id": "c2a8c2ba",
   "metadata": {},
   "source": [
    "Writing down all of the equation is going to get tedious... so i will be making variables a,b,c,d to follow lectures"
   ]
  },
  {
   "cell_type": "code",
   "execution_count": 278,
   "id": "13776443",
   "metadata": {},
   "outputs": [],
   "source": [
    "# i will be calculating the partial derivatives on paper\n",
    "# first order partial derivative of f1 with respect to x1\n",
    "def f1x1(x1,x2):\n",
    "    return (2*x1 + x2)\n",
    "#first order partial derivative of f1 with respect to x2\n",
    "def f1x2(x1,x2):\n",
    "    return (x1)\n",
    "#partial derivative of f2 with respect to x1\n",
    "def f2x1(x1,x2):\n",
    "    return (3*x2*x2)\n",
    "#partial derivative of f2 with respect to x2\n",
    "def f2x2(x1,x2):\n",
    "    return (1 + 6*x1*x2)\n",
    "\n",
    "a = f1x1\n",
    "b = f1x2\n",
    "c = f2x1\n",
    "d = f2x2\n"
   ]
  },
  {
   "cell_type": "markdown",
   "id": "15482325",
   "metadata": {},
   "source": [
    "this cell handles calculating delta x1 and delta x2"
   ]
  },
  {
   "cell_type": "code",
   "execution_count": 279,
   "id": "5280d65a",
   "metadata": {},
   "outputs": [],
   "source": [
    "def dx1(f1,f2,f1x1,f1x2,f2x1,f2x2,x1,x2):\n",
    "    return ((b*f2-d*f1)/(a*d-b*c))\n",
    "def dx2(f1,f2,f1x1,f1x2,f2x1,f2x2,x1,x2):\n",
    "    return ((c*f1-a*f2)/((a*d)-(b*c)))"
   ]
  },
  {
   "cell_type": "markdown",
   "id": "a4fa16f4",
   "metadata": {},
   "source": [
    "This cell will handle taking in the guess values and making sure it doesnt enter an infinite loop"
   ]
  },
  {
   "cell_type": "code",
   "execution_count": 281,
   "id": "a5ec7efc",
   "metadata": {},
   "outputs": [
    {
     "name": "stdout",
     "output_type": "stream",
     "text": [
      " x1 is  -9.603087308448428 x2 is:  9.329209523993612\n",
      " x1 is  -6.966613086531153 x2 is:  6.082571427712928\n",
      " x1 is  -5.2396625641173 x2 is:  3.7049735932316463\n",
      " x1 is  -4.05372360725591 x2 is:  1.8558754414114977\n",
      " x1 is  -2.967595608962593 x2 is:  -0.04979678423780198\n",
      " x1 is  -18.171284789684453 x2 is:  30.107777206053807\n",
      " x1 is  -15.969679868137037 x2 is:  17.054207264669273\n",
      " x1 is  -11.30096335878372 x2 is:  11.489145720296541\n",
      " x1 is  -8.126466532419752 x2 is:  7.598585329187441\n",
      " x1 is  -6.013593107366202 x2 is:  4.813703683188317\n",
      " x1 is  -4.6029396443413635 x2 is:  2.7417199323753283\n",
      " x1 is  -3.5455624255898375 x2 is:  0.9884494821290852\n",
      " x1 is  -1.911191517071241 x2 is:  -2.028929241692225\n",
      " x1 is  -3.7513973575112276 x2 is:  1.9595801163803506\n",
      " x1 is  -2.945899448970021 x2 is:  -0.07802260999688038\n",
      " x1 is  -15.024740588189946 x2 is:  23.840625333221716\n",
      " x1 is  -12.986742640427032 x2 is:  13.698779044734936\n",
      " x1 is  -9.3112041835875 x2 is:  9.115508641419286\n",
      " x1 is  -6.808573606401744 x2 is:  5.900266465469298\n",
      " x1 is  -5.14146134903107 x2 is:  3.5635557622412004\n",
      " x1 is  -3.981504554394457 x2 is:  1.7357902955061364\n",
      " x1 is  -2.8686472505810103 x2 is:  -0.23178690592392392\n",
      " x1 is  -8.70154089388451 x2 is:  11.332744595543236\n",
      " x1 is  -7.240071022860919 x2 is:  6.651384096551271\n",
      " x1 is  -5.476682741120586 x2 is:  4.080464485742979\n",
      " x1 is  -4.235478166867588 x2 is:  2.157886721815456\n",
      " x1 is  -3.1873501978566603 x2 is:  0.350670107973444\n",
      " x1 is  -16.88054818490742 x2 is:  968.0611265531604\n",
      " x1 is  0.041049023454835645 x2 is:  15.64186911434183\n",
      " x1 is  -0.2721592656875486 x2 is:  -11.400712596070655\n",
      " x1 is  -1.6867034614156577 x2 is:  19.527192649400785\n",
      " x1 is  1.7452394378771485 x2 is:  2.955834653385084\n",
      " x1 is  2.0 x2 is:  2.9999999999999996\n",
      " x1 is  1.9999999999999998 x2 is:  3.0\n",
      " x1 is  2.0 x2 is:  3.0\n",
      " x1 is  2.0 x2 is:  3.0\n",
      " x1 is  2.0 x2 is:  3.0\n",
      " x1 is  2.0 x2 is:  3.0\n",
      " x1 is  2.0 x2 is:  3.0\n",
      " x1 is  2.0 x2 is:  3.0\n",
      " x1 is  2.0 x2 is:  3.0\n",
      " x1 is  2.0 x2 is:  3.0\n",
      " x1 is  2.0 x2 is:  3.0\n",
      " x1 is  2.0 x2 is:  3.0\n",
      " x1 is  2.0 x2 is:  3.0\n",
      " x1 is  2.0 x2 is:  3.0\n",
      " x1 is  2.0 x2 is:  3.0\n",
      " x1 is  2.0 x2 is:  3.0\n",
      " x1 is  2.0 x2 is:  3.0\n",
      " x1 is  2.0 x2 is:  3.0\n",
      " x1 is  2.0 x2 is:  3.0\n",
      " x1 is  2.0 x2 is:  3.0\n",
      " x1 is  2.0 x2 is:  3.0\n",
      " x1 is  2.0 x2 is:  3.0\n",
      " x1 is  2.0 x2 is:  3.0\n",
      " x1 is  2.0 x2 is:  3.0\n",
      " x1 is  2.0 x2 is:  3.0\n",
      " x1 is  2.0 x2 is:  3.0\n",
      " x1 is  2.0 x2 is:  3.0\n",
      " x1 is  2.0 x2 is:  3.0\n",
      " x1 is  2.0 x2 is:  3.0\n",
      " x1 is  2.0 x2 is:  3.0\n",
      " x1 is  2.0 x2 is:  3.0\n",
      " x1 is  2.0 x2 is:  3.0\n",
      " x1 is  2.0 x2 is:  3.0\n",
      " x1 is  2.0 x2 is:  3.0\n",
      " x1 is  2.0 x2 is:  3.0\n",
      " x1 is  2.0 x2 is:  3.0\n",
      " x1 is  2.0 x2 is:  3.0\n",
      " x1 is  2.0 x2 is:  3.0\n",
      " x1 is  2.0 x2 is:  3.0\n",
      " x1 is  2.0 x2 is:  3.0\n",
      " x1 is  2.0 x2 is:  3.0\n",
      " x1 is  2.0 x2 is:  3.0\n",
      " x1 is  2.0 x2 is:  3.0\n",
      " x1 is  2.0 x2 is:  3.0\n",
      " x1 is  2.0 x2 is:  3.0\n",
      " x1 is  2.0 x2 is:  3.0\n",
      " x1 is  2.0 x2 is:  3.0\n",
      " x1 is  2.0 x2 is:  3.0\n",
      " x1 is  2.0 x2 is:  3.0\n",
      " x1 is  2.0 x2 is:  3.0\n",
      " x1 is  2.0 x2 is:  3.0\n",
      " x1 is  2.0 x2 is:  3.0\n",
      " x1 is  2.0 x2 is:  3.0\n",
      " x1 is  2.0 x2 is:  3.0\n",
      " x1 is  2.0 x2 is:  3.0\n"
     ]
    }
   ],
   "source": [
    "for i in range(0, nmax):\n",
    "    a = f1x1(x1,x2)\n",
    "    b = f1x2(x1,x2)\n",
    "    c = f2x1(x1,x2)\n",
    "    d = f2x2(x1,x2)\n",
    "    x1 = x1 + dx1(f1(x1,x2),f2(x1,x2),a,b,c,d,x1,x2)\n",
    "    x2 = x2 + dx2(f1(x1,x2),f2(x1,x2),a,b,c,d,x1,x2)\n",
    "    if(f1(x1,x2)) < eps and (f2(x1,x2)) < eps:\n",
    "        print(\" x1 is \", x1, \"x2 is: \", x2)"
   ]
  },
  {
   "cell_type": "code",
   "execution_count": null,
   "id": "473ecae8",
   "metadata": {},
   "outputs": [],
   "source": []
  },
  {
   "cell_type": "code",
   "execution_count": null,
   "id": "0e8cdbf3",
   "metadata": {},
   "outputs": [],
   "source": []
  }
 ],
 "metadata": {
  "kernelspec": {
   "display_name": "Python 3 (ipykernel)",
   "language": "python",
   "name": "python3"
  },
  "language_info": {
   "codemirror_mode": {
    "name": "ipython",
    "version": 3
   },
   "file_extension": ".py",
   "mimetype": "text/x-python",
   "name": "python",
   "nbconvert_exporter": "python",
   "pygments_lexer": "ipython3",
   "version": "3.9.7"
  }
 },
 "nbformat": 4,
 "nbformat_minor": 5
}
