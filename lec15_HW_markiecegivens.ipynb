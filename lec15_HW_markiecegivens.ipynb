{
 "cells": [
  {
   "cell_type": "markdown",
   "id": "91ecf164",
   "metadata": {},
   "source": [
    "## Lecture 15 Homework"
   ]
  },
  {
   "cell_type": "markdown",
   "id": "3e3fde39",
   "metadata": {},
   "source": [
    "a) Highly nonlinear oscillator:\n",
    "\n",
    "Recall the numerical solution for oscillations of a spring with power p = 12 (use F=-0.01*y[0]**11). Decompose the solution into a Fourier series and determine the number of higher harmonics that contribute at least 10%; for example, determine the n for which |bn /b1 | < 0.1. Check that resuming the components reproduces the signal. (Landau 289)"
   ]
  },
  {
   "cell_type": "code",
   "execution_count": 3,
   "id": "9cf5be2a",
   "metadata": {},
   "outputs": [],
   "source": [
    "import matplotlib.pyplot as plt\n",
    "from numpy import *\n",
    "from math import pi"
   ]
  },
  {
   "cell_type": "code",
   "execution_count": 5,
   "id": "dca16314",
   "metadata": {},
   "outputs": [],
   "source": [
    "# i declared values for the mininum and maximum power\n",
    "# and input them into a list. also tend = 1 means for one period\n",
    "ymin = 0\n",
    "ymax = 12\n",
    "t = 0\n",
    "tend = 1\n",
    "powerp = [ymin,ymax]\n",
    "#this function is what is given in the problem.\n",
    "a = 0\n",
    "b = 2*pi\n",
    "N = 100\n",
    "h = (b-a)/N\n",
    "def f(t, y):\n",
    "    powfunc[0] = y[1]                                          \n",
    "    powfunc[1] = -0.01*y[0]**11\n",
    "    return powfunc\n",
    "\n",
    "def rk4(t, h, y, n):\n",
    "    k1 = np.zeros(n)\n",
    "    k2 = np.zeros(n)\n",
    "    k3 = np.zeros(n)\n",
    "    k4 = np.zeros(n)\n",
    "    k1=h*f(t,y)\n",
    "    k2=h*f(t+0.5*h,y+0.5*k1)\n",
    "    k3=h*f(t+0.5*h,y+0.5*k2)\n",
    "    k4=h*f(t+h, y+k3)\n",
    "    y+=(1/6)*(k1+2*k2+2*k3+k4)\n",
    "    return y\n",
    "\n",
    "tp = []\n",
    "\n",
    "# i dont know where to go from here. The question is confusing because for bn/b1\n",
    "# would that be the step??"
   ]
  },
  {
   "cell_type": "code",
   "execution_count": 1,
   "id": "884969e4",
   "metadata": {},
   "outputs": [
    {
     "ename": "NameError",
     "evalue": "name 't' is not defined",
     "output_type": "error",
     "traceback": [
      "\u001b[1;31m---------------------------------------------------------------------------\u001b[0m",
      "\u001b[1;31mNameError\u001b[0m                                 Traceback (most recent call last)",
      "\u001b[1;32mC:\\Users\\MARKIE~1\\AppData\\Local\\Temp/ipykernel_22300/2561101698.py\u001b[0m in \u001b[0;36m<module>\u001b[1;34m\u001b[0m\n\u001b[0;32m      1\u001b[0m \u001b[1;31m# Fourier analysis\u001b[0m\u001b[1;33m\u001b[0m\u001b[1;33m\u001b[0m\u001b[0m\n\u001b[0;32m      2\u001b[0m \u001b[1;33m\u001b[0m\u001b[0m\n\u001b[1;32m----> 3\u001b[1;33m \u001b[0mN\u001b[0m\u001b[1;33m=\u001b[0m\u001b[0mlen\u001b[0m\u001b[1;33m(\u001b[0m\u001b[0mt\u001b[0m\u001b[1;33m)\u001b[0m\u001b[1;33m\u001b[0m\u001b[1;33m\u001b[0m\u001b[0m\n\u001b[0m\u001b[0;32m      4\u001b[0m \u001b[0mdftz\u001b[0m\u001b[1;33m=\u001b[0m\u001b[0mzeros\u001b[0m\u001b[1;33m(\u001b[0m\u001b[0mN\u001b[0m\u001b[1;33m,\u001b[0m\u001b[0mcomplex\u001b[0m \u001b[1;33m)\u001b[0m\u001b[1;33m\u001b[0m\u001b[1;33m\u001b[0m\u001b[0m\n\u001b[0;32m      5\u001b[0m \u001b[0mnplot\u001b[0m\u001b[1;33m=\u001b[0m\u001b[0mzeros\u001b[0m\u001b[1;33m(\u001b[0m\u001b[0mN\u001b[0m\u001b[1;33m)\u001b[0m\u001b[1;33m\u001b[0m\u001b[1;33m\u001b[0m\u001b[0m\n",
      "\u001b[1;31mNameError\u001b[0m: name 't' is not defined"
     ]
    }
   ],
   "source": [
    "# code utilized from lecture for Fourier analysis\n",
    "\n",
    "N=len(t)\n",
    "dftz=zeros(N,complex )\n",
    "nplot=zeros(N)\n",
    "fplot=zeros(N)\n",
    "step = 0.1\n",
    "\n",
    "def fourier(signal):                                              # DFT\n",
    "    for n in range(0, N):              \n",
    "      zsum = complex(0.0, 0.0)                \n",
    "      for  k in range(0, N):                              \n",
    "          zexpo = complex(0, 2.*pi*k*n/N)           # Complex exponent\n",
    "          zsum += signal[k]*exp(-zexpo)           \n",
    "      dftz[n] = zsum * sqrt(2.*pi)      \n",
    "      nplot[n] = n/N/step*2.*pi        # omega = n 2\\pi /T = n 2\\pi / (N *step)\n",
    "      fplot[n] = sqrt(dftz[n].imag*dftz[n].imag+dftz[n].real*dftz[n].real)\n",
    "    \n",
    "fourier(y)\n",
    "\n",
    "plt.plot(nplot,fplot)\n",
    "plt.show()"
   ]
  },
  {
   "cell_type": "markdown",
   "id": "31305090",
   "metadata": {},
   "source": [
    "b) Merging compact objects produces a chirp signal in the gravitational wave detector. Assume the chirp signal is\n",
    " \n",
    "$$y(t) = sin(t^2)$$ $$ 0 < t < 15$$\n",
    "or\n",
    "$$ 0 $$ $$else$$\n",
    "\n",
    "Please do wavelet transform to show the chirp signal is similar to the one you have seen online (e.g.https://www.researchgate.net/figure/Spectrogram-of-signal-CHIRP-source-wwwligoorg_fig2_328932008). (Notice that the figure online has time as x-axis and frequency as the y-axis) (You are welcome to use any wavelet you prefer.)"
   ]
  },
  {
   "cell_type": "code",
   "execution_count": null,
   "id": "9ddbd075",
   "metadata": {},
   "outputs": [],
   "source": []
  },
  {
   "cell_type": "code",
   "execution_count": null,
   "id": "321df83d",
   "metadata": {},
   "outputs": [],
   "source": []
  },
  {
   "cell_type": "code",
   "execution_count": null,
   "id": "09adb83b",
   "metadata": {},
   "outputs": [],
   "source": []
  }
 ],
 "metadata": {
  "kernelspec": {
   "display_name": "Python 3 (ipykernel)",
   "language": "python",
   "name": "python3"
  },
  "language_info": {
   "codemirror_mode": {
    "name": "ipython",
    "version": 3
   },
   "file_extension": ".py",
   "mimetype": "text/x-python",
   "name": "python",
   "nbconvert_exporter": "python",
   "pygments_lexer": "ipython3",
   "version": "3.9.7"
  }
 },
 "nbformat": 4,
 "nbformat_minor": 5
}
