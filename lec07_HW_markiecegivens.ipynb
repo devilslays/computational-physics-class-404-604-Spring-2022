{
 "cells": [
  {
   "cell_type": "markdown",
   "id": "bbbac3df",
   "metadata": {},
   "source": [
    "# Lecture 7 HW"
   ]
  },
  {
   "cell_type": "markdown",
   "id": "f597f5f5",
   "metadata": {},
   "source": [
    "### A person throws a ball upwards at a speed of 10 m/s, please calculate the trajectory using Runge-Kutta method and plot height(z) vs time(t)"
   ]
  },
  {
   "cell_type": "markdown",
   "id": "f42b75c1",
   "metadata": {},
   "source": [
    "This section of code handles defining the Runge-Kutta rule for this problem. This function will then be called in the next section for calculations"
   ]
  },
  {
   "cell_type": "code",
   "execution_count": 41,
   "id": "5f88a53e",
   "metadata": {},
   "outputs": [],
   "source": [
    "import numpy as np\n",
    "import matplotlib.pyplot as plt\n",
    "# these are the parameters\n",
    "g = -9.81\n",
    "tend = 2\n",
    "h = 0.01\n",
    "t = 0\n",
    "z = [0.,9.8]\n",
    "\n",
    "def f(t,z):\n",
    "    f = np.zeros(2)\n",
    "    f[1] = g\n",
    "    f[0] = z[1]\n",
    "    return f\n",
    "# Runge-Kutta Rule\n",
    "def rk4(t, h, z, n):\n",
    "    k1 = np.zeros(n)\n",
    "    k2 = np.zeros(n)\n",
    "    k3 = np.zeros(n)\n",
    "    k4 = np.zeros(n)\n",
    "    k1=h*f(t,z)\n",
    "    k2=h*f(t+0.5*h, z+0.5*k1)\n",
    "    k3=h*f(t+0.5*h, z+k2/2)\n",
    "    k4=h*f(t+0.5*h, z+k3)\n",
    "    z+= (1./6.)*(k1+2*k2+2*k3+k4)\n",
    "    return z\n"
   ]
  },
  {
   "cell_type": "markdown",
   "id": "dd3097c4",
   "metadata": {},
   "source": [
    "This section of the code will handle the calculations for this particular problem"
   ]
  },
  {
   "cell_type": "code",
   "execution_count": 42,
   "id": "813042b8",
   "metadata": {},
   "outputs": [
    {
     "data": {
      "image/png": "[encoded data removed]",
      "text/plain": [
       "<Figure size 432x288 with 1 Axes>"
      ]
     },
     "metadata": {
      "needs_background": "light"
     },
     "output_type": "display_data"
    }
   ],
   "source": [
    "zp = []\n",
    "tp = []\n",
    "while(t<tend):\n",
    "    if((t+h)>tend):\n",
    "        h=tend-t\n",
    "    z = rk4(t,h,z,2)\n",
    "    zp = np.append(zp,z[0])\n",
    "    t = t+h\n",
    "    tp = np.append(tp,t)\n",
    "\n",
    "plt.plot(tp,zp)\n",
    "plt.title(\"Height vs Time\")\n",
    "plt.xlabel(\"Time\")\n",
    "plt.ylabel(\"Height\")\n",
    "plt.show()"
   ]
  },
  {
   "cell_type": "code",
   "execution_count": null,
   "id": "8d309d2e",
   "metadata": {},
   "outputs": [],
   "source": []
  }
 ],
 "metadata": {
  "kernelspec": {
   "display_name": "Python 3 (ipykernel)",
   "language": "python",
   "name": "python3"
  },
  "language_info": {
   "codemirror_mode": {
    "name": "ipython",
    "version": 3
   },
   "file_extension": ".py",
   "mimetype": "text/x-python",
   "name": "python",
   "nbconvert_exporter": "python",
   "pygments_lexer": "ipython3",
   "version": "3.9.7"
  }
 },
 "nbformat": 4,
 "nbformat_minor": 5
}
