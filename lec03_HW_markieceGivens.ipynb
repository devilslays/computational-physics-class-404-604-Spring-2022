{
 "cells": [
  {
   "cell_type": "markdown",
   "id": "fba5d264",
   "metadata": {},
   "source": [
    "# HW Assignment #2: Fibbonacci Sequence"
   ]
  },
  {
   "cell_type": "markdown",
   "id": "50c12559",
   "metadata": {},
   "source": [
    "## Part 1"
   ]
  },
  {
   "cell_type": "markdown",
   "id": "b5b4fc2f",
   "metadata": {},
   "source": [
    "### The Fibbonnaci sequence using memorization method is"
   ]
  },
  {
   "cell_type": "code",
   "execution_count": 164,
   "id": "9f37489e",
   "metadata": {},
   "outputs": [],
   "source": [
    "import numpy as np\n",
    "import time\n",
    "import matplotlib.pyplot as plt\n",
    "from numpy import loadtxt"
   ]
  },
  {
   "cell_type": "code",
   "execution_count": 165,
   "id": "d6c1886e",
   "metadata": {},
   "outputs": [],
   "source": [
    "n = 20\n",
    "table = [None]*(n+1)\n",
    "def fib3(n, table):\n",
    "    if n == 0 or n==1:\n",
    "        table[n]=n\n",
    "    if table[n] is None:\n",
    "        table[n] = fib3(n-1, table) + fib3(n-2,table)\n",
    "    return table[n]"
   ]
  },
  {
   "cell_type": "markdown",
   "id": "8d46e27e",
   "metadata": {},
   "source": [
    "### Now to plot the ratio F(n)/F(n-1) with respect to n"
   ]
  },
  {
   "cell_type": "code",
   "execution_count": 166,
   "id": "35bffbb9",
   "metadata": {},
   "outputs": [
    {
     "data": {
      "image/png": "[encoded data removed]",
      "text/plain": [
       "<Figure size 432x288 with 1 Axes>"
      ]
     },
     "metadata": {
      "needs_background": "light"
     },
     "output_type": "display_data"
    }
   ],
   "source": [
    "fib3(n,table)\n",
    "\n",
    "dataratio = []\n",
    "for i in range(2,n+1):\n",
    "    ratio = table[i]/table[i-1]\n",
    "    dataratio = np.append(dataratio,ratio)\n",
    "plt.plot(np.arange(2,n+1),dataratio)\n",
    "plt.show()\n",
    "\n"
   ]
  },
  {
   "cell_type": "markdown",
   "id": "4aa0001c",
   "metadata": {},
   "source": [
    "## Part 2"
   ]
  },
  {
   "cell_type": "markdown",
   "id": "9385a13b",
   "metadata": {},
   "source": [
    "### Recursion Method"
   ]
  },
  {
   "cell_type": "code",
   "execution_count": 167,
   "id": "787d659d",
   "metadata": {},
   "outputs": [],
   "source": [
    "def fib2(n):\n",
    "    if n == 0: return 0\n",
    "    elif n == 1: return 1\n",
    "    else: return fib2(n-1)+fib2(n-2)"
   ]
  },
  {
   "cell_type": "markdown",
   "id": "eacfd353",
   "metadata": {},
   "source": [
    "### Tabulation Method"
   ]
  },
  {
   "cell_type": "code",
   "execution_count": 168,
   "id": "d48a1044",
   "metadata": {},
   "outputs": [],
   "source": [
    "def fib4(n):\n",
    "    table=[0]*(n+1)\n",
    "    table[1] = 1\n",
    "    for i in range(2,n+1):\n",
    "        table[i]= table[i-1] + table[i-2]\n",
    "        \n",
    "    return table[n]"
   ]
  },
  {
   "cell_type": "markdown",
   "id": "4de81c25",
   "metadata": {},
   "source": [
    "### Matrix Method"
   ]
  },
  {
   "cell_type": "code",
   "execution_count": 169,
   "id": "ccde6bd4",
   "metadata": {},
   "outputs": [],
   "source": [
    "def arrpow(arr, n):\n",
    "    yarr=arr\n",
    "    if n<1:\n",
    "        print('n needs to be larger than 1')\n",
    "        return n\n",
    "    if n==1:\n",
    "        return arr\n",
    "    yarr = arrpow(arr, n//2)\n",
    "    yarr = [[yarr[0][0]*yarr[0][0]+yarr[0][1]*yarr[1][0],yarr[0][0]*yarr[0][1]+yarr[0][1]*yarr[1][1]],\n",
    "            [yarr[1][0]*yarr[0][0]+yarr[1][1]*yarr[1][0],yarr[1][0]*yarr[0][1]+yarr[1][1]*yarr[1][1]]]\n",
    "    if n%2:\n",
    "        yarr=[[yarr[0][0]*arr[0][0]+yarr[0][1]*arr[1][0],yarr[0][0]*arr[0][1]+yarr[0][1]*arr[1][1]],\n",
    "            [yarr[1][0]*arr[0][0]+yarr[1][1]*arr[1][0],yarr[1][0]*arr[0][1]+yarr[1][1]*arr[1][1]]]\n",
    "    return yarr\n",
    "\n",
    "def fib5(n):\n",
    "    arr= [[1,1],[1,0]]\n",
    "    f=arrpow(arr,n-1)[0][0]\n",
    "    return f"
   ]
  },
  {
   "cell_type": "markdown",
   "id": "311626c3",
   "metadata": {},
   "source": [
    "## a & b)\n",
    "### The following code handles the time calculations for the Matrix method, Recursion method and the Tabulation method at different values of n and outputs time and n into a file. The way I went about doing this and taking parts of the code from Lecture 3 in order to get the time, but in order to write it to a file I used the writelines() function. In order to write the data to a file, I needed to store the value of n and the time to a variable. Once they were stored, I created a new variable which was the time and value of n as a string. I wasn't able to pass time and n into writelines without them being a string. I created three separate files: data1, data2, and data3"
   ]
  },
  {
   "cell_type": "markdown",
   "id": "c36c51fd",
   "metadata": {},
   "source": [
    "#### Time and n for recursion"
   ]
  },
  {
   "cell_type": "code",
   "execution_count": 170,
   "id": "4f597c44",
   "metadata": {},
   "outputs": [],
   "source": [
    "n2=np.arange(0,40,2)\n",
    "time2=np.zeros(n2.size)\n",
    "file3 = open(\"data3.txt\", \"w\")\n",
    "#f = open(\"data.txt\", \"a\")\n",
    "for i in range(n2.size):\n",
    "    start_time = time.time()\n",
    "    temp=fib2(n2[i])\n",
    "    time2[i] = time.time()-start_time\n",
    "    m = n2[i]\n",
    "    n = time2[i]\n",
    "    p = str(m)\n",
    "    q = str(n)\n",
    "    r = [p + ' ' + q + \"\\n\"]\n",
    "    file3.writelines(r)\n",
    "file3.close()"
   ]
  },
  {
   "cell_type": "markdown",
   "id": "f977ad1f",
   "metadata": {},
   "source": [
    "#### Time and n for Tabulation method"
   ]
  },
  {
   "cell_type": "code",
   "execution_count": 171,
   "id": "f0cf47c8",
   "metadata": {},
   "outputs": [],
   "source": [
    "n3=np.arange(22100,80001,100)\n",
    "time3=np.zeros(n3.size)\n",
    "file1 = open(\"data1.txt\", \"w\")\n",
    "for i in range(n3.size):\n",
    "    table = [None]*(22100+i*100)\n",
    "    start_time = time.time()\n",
    "    temp=fib4(n3[i])\n",
    "    time3[i] = time.time()-start_time\n",
    "    f = n3[i]\n",
    "    g = time3[i]\n",
    "    h = str(f)\n",
    "    j = str(g)\n",
    "    k = [h + ' ' + j + \"\\n\"]\n",
    "    file1.writelines(k)\n",
    "file1.close()"
   ]
  },
  {
   "cell_type": "markdown",
   "id": "614a76b3",
   "metadata": {},
   "source": [
    "#### Time and n for Matrix  Method"
   ]
  },
  {
   "cell_type": "code",
   "execution_count": 172,
   "id": "d0948110",
   "metadata": {},
   "outputs": [],
   "source": [
    "#this is for the matrix method. it seems that for small numbers the time is really sporatic and jumps from zero to some value\n",
    "#so i tried big numbers in order to see at what value the values increase without going to zero\n",
    "n4=np.arange(34000,100001,100)\n",
    "time4=np.zeros(n4.size)\n",
    "file2 = open(\"data2.txt\", \"w\")\n",
    "for i in range(n4.size):\n",
    "    #the range for the table needed to be changed because this does not time well for low numbers since its fast\n",
    "    table = [None]*(34000+i*100)\n",
    "    start_time = time.time()\n",
    "    temp=(fib5(n4[i]))\n",
    "    time4[i] = time.time()-start_time\n",
    "    a = n4[i]\n",
    "    b = time4[i]\n",
    "    c = str(a)\n",
    "    d = str(b)\n",
    "    e = [c + ' ' + d + \"\\n\"]\n",
    "    file2.writelines(e)\n",
    "file2.close()"
   ]
  },
  {
   "cell_type": "markdown",
   "id": "a1f44b93",
   "metadata": {},
   "source": [
    "## c)\n",
    "### This section of code will handle reading the data from the file and plotting log(time) vs log(n)."
   ]
  },
  {
   "cell_type": "markdown",
   "id": "04848b58",
   "metadata": {},
   "source": [
    "#### Log(time) vs log(n) (Recursion Method)"
   ]
  },
  {
   "cell_type": "code",
   "execution_count": 173,
   "id": "ef69e5e6",
   "metadata": {},
   "outputs": [
    {
     "name": "stderr",
     "output_type": "stream",
     "text": [
      "C:\\Users\\MARKIE~1\\AppData\\Local\\Temp/ipykernel_24288/3924376796.py:9: RuntimeWarning: divide by zero encountered in log10\n",
      "  plt.plot(np.log10(x), np.log10(y))\n"
     ]
    },
    {
     "data": {
      "image/png": "[encoded data removed]",
      "text/plain": [
       "<Figure size 432x288 with 1 Axes>"
      ]
     },
     "metadata": {
      "needs_background": "light"
     },
     "output_type": "display_data"
    }
   ],
   "source": [
    "a = loadtxt(\"data3.txt\", float)\n",
    "x = []\n",
    "y = []\n",
    "for i in range(len(a)):\n",
    "    temp2 = a[i][0]\n",
    "    temp3 = a[i][1]\n",
    "    x.append(temp2)\n",
    "    y.append(temp3)\n",
    "plt.plot(np.log10(x), np.log10(y))\n",
    "plt.xlabel('log10(n)')\n",
    "plt.ylabel('log10(time)')\n",
    "plt.show()"
   ]
  },
  {
   "cell_type": "markdown",
   "id": "96525694",
   "metadata": {},
   "source": [
    "#### time vs n (Recursion method)"
   ]
  },
  {
   "cell_type": "code",
   "execution_count": 176,
   "id": "e05fd379",
   "metadata": {},
   "outputs": [
    {
     "data": {
      "image/png": "[encoded data removed]",
      "text/plain": [
       "<Figure size 432x288 with 1 Axes>"
      ]
     },
     "metadata": {
      "needs_background": "light"
     },
     "output_type": "display_data"
    }
   ],
   "source": [
    "a = loadtxt(\"data3.txt\", float)\n",
    "x = []\n",
    "y = []\n",
    "for i in range(len(a)):\n",
    "    temp2 = a[i][0]\n",
    "    temp3 = a[i][1]\n",
    "    x.append(temp2)\n",
    "    y.append(temp3)\n",
    "plt.plot(x, y)\n",
    "plt.xlabel('n')\n",
    "plt.ylabel('time')\n",
    "plt.show()"
   ]
  },
  {
   "cell_type": "markdown",
   "id": "4ce86308",
   "metadata": {},
   "source": [
    "#### Log(time) vs log(n) (Tabulation Method)"
   ]
  },
  {
   "cell_type": "code",
   "execution_count": 174,
   "id": "d6104abd",
   "metadata": {},
   "outputs": [
    {
     "data": {
      "image/png": "[encoded data removed]",
      "text/plain": [
       "<Figure size 432x288 with 1 Axes>"
      ]
     },
     "metadata": {
      "needs_background": "light"
     },
     "output_type": "display_data"
    }
   ],
   "source": [
    "b = loadtxt(\"data1.txt\", float)\n",
    "x = []\n",
    "y = []\n",
    "for i in range(len(b)):\n",
    "    temp2 = b[i][0]\n",
    "    temp3 = b[i][1]\n",
    "    x.append(temp2)\n",
    "    y.append(temp3)\n",
    "plt.plot(np.log10(x), np.log10(y))\n",
    "plt.xlabel('log10(n)')\n",
    "plt.ylabel('log10(time)')\n",
    "plt.show()\n",
    "    "
   ]
  },
  {
   "cell_type": "markdown",
   "id": "e4f3c72f",
   "metadata": {},
   "source": [
    "#### time vs n (Tabulation method)"
   ]
  },
  {
   "cell_type": "code",
   "execution_count": 177,
   "id": "1ddbb86c",
   "metadata": {},
   "outputs": [
    {
     "data": {
      "image/png": "[encoded data removed]",
      "text/plain": [
       "<Figure size 432x288 with 1 Axes>"
      ]
     },
     "metadata": {
      "needs_background": "light"
     },
     "output_type": "display_data"
    }
   ],
   "source": [
    "b = loadtxt(\"data1.txt\", float)\n",
    "x = []\n",
    "y = []\n",
    "for i in range(len(b)):\n",
    "    temp2 = b[i][0]\n",
    "    temp3 = b[i][1]\n",
    "    x.append(temp2)\n",
    "    y.append(temp3)\n",
    "plt.plot(x, y)\n",
    "plt.xlabel('n')\n",
    "plt.ylabel('time')\n",
    "plt.show()"
   ]
  },
  {
   "cell_type": "markdown",
   "id": "ed875ba9",
   "metadata": {},
   "source": [
    "#### Log(time) vs log(n) (Matrix Method)"
   ]
  },
  {
   "cell_type": "code",
   "execution_count": 175,
   "id": "b3949cf1",
   "metadata": {},
   "outputs": [
    {
     "name": "stderr",
     "output_type": "stream",
     "text": [
      "C:\\Users\\MARKIE~1\\AppData\\Local\\Temp/ipykernel_24288/3339305077.py:9: RuntimeWarning: divide by zero encountered in log10\n",
      "  plt.plot(np.log10(x), np.log10(y))\n"
     ]
    },
    {
     "data": {
      "image/png": "[encoded data removed]",
      "text/plain": [
       "<Figure size 432x288 with 1 Axes>"
      ]
     },
     "metadata": {
      "needs_background": "light"
     },
     "output_type": "display_data"
    }
   ],
   "source": [
    "c = loadtxt(\"data2.txt\", float)\n",
    "x = []\n",
    "y = []\n",
    "for i in range(len(c)):\n",
    "    temp2 = c[i][0]\n",
    "    temp3 = c[i][1]\n",
    "    x.append(temp2)\n",
    "    y.append(temp3)\n",
    "plt.plot(np.log10(x), np.log10(y))\n",
    "plt.xlabel('log10(n)')\n",
    "plt.ylabel('log10(time)')\n",
    "plt.show()"
   ]
  },
  {
   "cell_type": "markdown",
   "id": "cc7cb884",
   "metadata": {},
   "source": [
    "#### time vs n (Matrix method)"
   ]
  },
  {
   "cell_type": "code",
   "execution_count": 178,
   "id": "cf9227ae",
   "metadata": {},
   "outputs": [
    {
     "data": {
      "image/png": "[encoded data removed]",
      "text/plain": [
       "<Figure size 432x288 with 1 Axes>"
      ]
     },
     "metadata": {
      "needs_background": "light"
     },
     "output_type": "display_data"
    }
   ],
   "source": [
    "c = loadtxt(\"data2.txt\", float)\n",
    "x = []\n",
    "y = []\n",
    "for i in range(len(c)):\n",
    "    temp2 = c[i][0]\n",
    "    temp3 = c[i][1]\n",
    "    x.append(temp2)\n",
    "    y.append(temp3)\n",
    "plt.plot(x, y)\n",
    "plt.xlabel('n')\n",
    "plt.ylabel('time')\n",
    "plt.show()"
   ]
  },
  {
   "cell_type": "markdown",
   "id": "fbe77a26",
   "metadata": {},
   "source": [
    "### Complexity"
   ]
  },
  {
   "cell_type": "markdown",
   "id": "51958777",
   "metadata": {},
   "source": [
    "##### Recursion time Complexity"
   ]
  },
  {
   "cell_type": "markdown",
   "id": "1f93d96e",
   "metadata": {},
   "source": [
    "The time complexity of the  recursive methods looks to follow $O(N^2)$. The time vs n graph shows to be the right hand side of a parabola, while the log10(time) vs log10(n) appears to not be so much as linear, but it is maybe part of a parabola. This is what leads me to my conclusion regarding its time complexity"
   ]
  },
  {
   "cell_type": "markdown",
   "id": "9147fe79",
   "metadata": {},
   "source": [
    "##### Tabulation Time Complexity"
   ]
  },
  {
   "cell_type": "markdown",
   "id": "b6a4580b",
   "metadata": {},
   "source": [
    "The graphs for the tabulation method features outliers, but when ignored, the time vs n and the log10(time) vs log10(n) graph but showcase linear plots. This leads me to conclude that its time complexity follows $O(N)$."
   ]
  },
  {
   "cell_type": "markdown",
   "id": "5963166b",
   "metadata": {},
   "source": [
    "##### Matrix Time Complexity"
   ]
  },
  {
   "cell_type": "markdown",
   "id": "259da4e5",
   "metadata": {},
   "source": [
    "I dont really know what to make of the time complexity for the matrix method. But it looks like for every value, its constant. Which means that it follows a time complexity $O(1)$. There are quite a few outliers which makes the graph hard to interpret. But for the most part it looks to follow a constant trend"
   ]
  },
  {
   "cell_type": "code",
   "execution_count": null,
   "id": "536bc6f0",
   "metadata": {},
   "outputs": [],
   "source": []
  }
 ],
 "metadata": {
  "kernelspec": {
   "display_name": "Python 3 (ipykernel)",
   "language": "python",
   "name": "python3"
  },
  "language_info": {
   "codemirror_mode": {
    "name": "ipython",
    "version": 3
   },
   "file_extension": ".py",
   "mimetype": "text/x-python",
   "name": "python",
   "nbconvert_exporter": "python",
   "pygments_lexer": "ipython3",
   "version": "3.9.7"
  }
 },
 "nbformat": 4,
 "nbformat_minor": 5
}
